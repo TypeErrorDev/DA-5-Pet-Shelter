{
 "cells": [
  {
   "cell_type": "markdown",
   "id": "cbce5457-d9e6-4c2c-aca3-39479ccd6ec9",
   "metadata": {},
   "source": [
    "# Project Files 1/1"
   ]
  },
  {
   "cell_type": "markdown",
   "id": "f1be8776-27ae-457e-a030-081a224bd056",
   "metadata": {},
   "source": [
    "## Meets Expectations\n",
    "- [x] The submitted files contain the three pet shelter CSVs and a jupyter Notebook file"
   ]
  },
  {
   "cell_type": "code",
   "execution_count": 3,
   "id": "03749ace-d15d-402a-889f-157f94037319",
   "metadata": {},
   "outputs": [],
   "source": [
    "import pandas as pd\n",
    "\n",
    "intakes = pd.read_csv('aac_intakes.csv')\n",
    "outcomes = pd.read_csv('aac_outcomes.csv') \n",
    "intakes_outcomes = pd.read_csv('aac_intakes_outcomes.csv') "
   ]
  },
  {
   "cell_type": "code",
   "execution_count": 4,
   "id": "21102e18-4b4d-4950-943a-10b2698be2de",
   "metadata": {
    "scrolled": true
   },
   "outputs": [
    {
     "data": {
      "text/html": [
       "<div>\n",
       "<style scoped>\n",
       "    .dataframe tbody tr th:only-of-type {\n",
       "        vertical-align: middle;\n",
       "    }\n",
       "\n",
       "    .dataframe tbody tr th {\n",
       "        vertical-align: top;\n",
       "    }\n",
       "\n",
       "    .dataframe thead th {\n",
       "        text-align: right;\n",
       "    }\n",
       "</style>\n",
       "<table border=\"1\" class=\"dataframe\">\n",
       "  <thead>\n",
       "    <tr style=\"text-align: right;\">\n",
       "      <th></th>\n",
       "      <th>age_upon_intake</th>\n",
       "      <th>animal_id</th>\n",
       "      <th>animal_type</th>\n",
       "      <th>breed</th>\n",
       "      <th>color</th>\n",
       "      <th>datetime</th>\n",
       "      <th>datetime2</th>\n",
       "      <th>found_location</th>\n",
       "      <th>intake_condition</th>\n",
       "      <th>intake_type</th>\n",
       "      <th>name</th>\n",
       "      <th>sex_upon_intake</th>\n",
       "    </tr>\n",
       "  </thead>\n",
       "  <tbody>\n",
       "    <tr>\n",
       "      <th>0</th>\n",
       "      <td>8 years</td>\n",
       "      <td>A706918</td>\n",
       "      <td>Dog</td>\n",
       "      <td>English Springer Spaniel</td>\n",
       "      <td>White/Liver</td>\n",
       "      <td>2015-07-05T12:59:00.000</td>\n",
       "      <td>2015-07-05T12:59:00.000</td>\n",
       "      <td>9409 Bluegrass Dr in Austin (TX)</td>\n",
       "      <td>Normal</td>\n",
       "      <td>Stray</td>\n",
       "      <td>Belle</td>\n",
       "      <td>Spayed Female</td>\n",
       "    </tr>\n",
       "  </tbody>\n",
       "</table>\n",
       "</div>"
      ],
      "text/plain": [
       "  age_upon_intake animal_id animal_type                     breed  \\\n",
       "0         8 years   A706918         Dog  English Springer Spaniel   \n",
       "\n",
       "         color                 datetime                datetime2  \\\n",
       "0  White/Liver  2015-07-05T12:59:00.000  2015-07-05T12:59:00.000   \n",
       "\n",
       "                     found_location intake_condition intake_type   name  \\\n",
       "0  9409 Bluegrass Dr in Austin (TX)           Normal       Stray  Belle   \n",
       "\n",
       "  sex_upon_intake  \n",
       "0   Spayed Female  "
      ]
     },
     "execution_count": 4,
     "metadata": {},
     "output_type": "execute_result"
    }
   ],
   "source": [
    "intakes.head(1)"
   ]
  },
  {
   "cell_type": "code",
   "execution_count": 59,
   "id": "395ae2d6-6f1a-4d01-87bd-6a81f3dbd68f",
   "metadata": {},
   "outputs": [
    {
     "data": {
      "text/html": [
       "<div>\n",
       "<style scoped>\n",
       "    .dataframe tbody tr th:only-of-type {\n",
       "        vertical-align: middle;\n",
       "    }\n",
       "\n",
       "    .dataframe tbody tr th {\n",
       "        vertical-align: top;\n",
       "    }\n",
       "\n",
       "    .dataframe thead th {\n",
       "        text-align: right;\n",
       "    }\n",
       "</style>\n",
       "<table border=\"1\" class=\"dataframe\">\n",
       "  <thead>\n",
       "    <tr style=\"text-align: right;\">\n",
       "      <th></th>\n",
       "      <th>age_upon_outcome</th>\n",
       "      <th>animal_id</th>\n",
       "      <th>animal_type</th>\n",
       "      <th>breed</th>\n",
       "      <th>color</th>\n",
       "      <th>date_of_birth</th>\n",
       "      <th>datetime</th>\n",
       "      <th>monthyear</th>\n",
       "      <th>name</th>\n",
       "      <th>outcome_subtype</th>\n",
       "      <th>outcome_type</th>\n",
       "      <th>sex_upon_outcome</th>\n",
       "    </tr>\n",
       "  </thead>\n",
       "  <tbody>\n",
       "    <tr>\n",
       "      <th>0</th>\n",
       "      <td>2 weeks</td>\n",
       "      <td>A684346</td>\n",
       "      <td>Cat</td>\n",
       "      <td>Domestic Shorthair Mix</td>\n",
       "      <td>Orange Tabby</td>\n",
       "      <td>2014-07-07T00:00:00</td>\n",
       "      <td>2014-07-22T16:04:00</td>\n",
       "      <td>2014-07-22T16:04:00</td>\n",
       "      <td>NaN</td>\n",
       "      <td>Partner</td>\n",
       "      <td>Transfer</td>\n",
       "      <td>Intact Male</td>\n",
       "    </tr>\n",
       "  </tbody>\n",
       "</table>\n",
       "</div>"
      ],
      "text/plain": [
       "  age_upon_outcome animal_id animal_type                   breed  \\\n",
       "0          2 weeks   A684346         Cat  Domestic Shorthair Mix   \n",
       "\n",
       "          color        date_of_birth             datetime  \\\n",
       "0  Orange Tabby  2014-07-07T00:00:00  2014-07-22T16:04:00   \n",
       "\n",
       "             monthyear name outcome_subtype outcome_type sex_upon_outcome  \n",
       "0  2014-07-22T16:04:00  NaN         Partner     Transfer      Intact Male  "
      ]
     },
     "execution_count": 59,
     "metadata": {},
     "output_type": "execute_result"
    }
   ],
   "source": [
    "outcomes.head(1)"
   ]
  },
  {
   "cell_type": "code",
   "execution_count": 91,
   "id": "dc970614-a1e3-4425-9b77-3cac5e1522ba",
   "metadata": {
    "scrolled": true
   },
   "outputs": [
    {
     "data": {
      "text/html": [
       "<div>\n",
       "<style scoped>\n",
       "    .dataframe tbody tr th:only-of-type {\n",
       "        vertical-align: middle;\n",
       "    }\n",
       "\n",
       "    .dataframe tbody tr th {\n",
       "        vertical-align: top;\n",
       "    }\n",
       "\n",
       "    .dataframe thead th {\n",
       "        text-align: right;\n",
       "    }\n",
       "</style>\n",
       "<table border=\"1\" class=\"dataframe\">\n",
       "  <thead>\n",
       "    <tr style=\"text-align: right;\">\n",
       "      <th></th>\n",
       "      <th>age_upon_outcome</th>\n",
       "      <th>animal_id_outcome</th>\n",
       "      <th>date_of_birth</th>\n",
       "      <th>outcome_subtype</th>\n",
       "      <th>outcome_type</th>\n",
       "      <th>sex_upon_outcome</th>\n",
       "      <th>age_upon_outcome_(days)</th>\n",
       "      <th>age_upon_outcome_(years)</th>\n",
       "      <th>age_upon_outcome_age_group</th>\n",
       "      <th>outcome_datetime</th>\n",
       "      <th>...</th>\n",
       "      <th>age_upon_intake_age_group</th>\n",
       "      <th>intake_datetime</th>\n",
       "      <th>intake_month</th>\n",
       "      <th>intake_year</th>\n",
       "      <th>intake_monthyear</th>\n",
       "      <th>intake_weekday</th>\n",
       "      <th>intake_hour</th>\n",
       "      <th>intake_number</th>\n",
       "      <th>time_in_shelter</th>\n",
       "      <th>time_in_shelter_days</th>\n",
       "    </tr>\n",
       "  </thead>\n",
       "  <tbody>\n",
       "    <tr>\n",
       "      <th>0</th>\n",
       "      <td>10 years</td>\n",
       "      <td>A006100</td>\n",
       "      <td>2007-07-09 00:00:00</td>\n",
       "      <td>NaN</td>\n",
       "      <td>Return to Owner</td>\n",
       "      <td>Neutered Male</td>\n",
       "      <td>3650</td>\n",
       "      <td>10.0</td>\n",
       "      <td>(7.5, 10.0]</td>\n",
       "      <td>2017-12-07 14:07:00</td>\n",
       "      <td>...</td>\n",
       "      <td>(7.5, 10.0]</td>\n",
       "      <td>2017-12-07 00:00:00</td>\n",
       "      <td>12</td>\n",
       "      <td>2017</td>\n",
       "      <td>2017-12</td>\n",
       "      <td>Thursday</td>\n",
       "      <td>14</td>\n",
       "      <td>1.0</td>\n",
       "      <td>0 days 14:07:00.000000000</td>\n",
       "      <td>0.588194</td>\n",
       "    </tr>\n",
       "    <tr>\n",
       "      <th>1</th>\n",
       "      <td>7 years</td>\n",
       "      <td>A006100</td>\n",
       "      <td>2007-07-09 00:00:00</td>\n",
       "      <td>NaN</td>\n",
       "      <td>Return to Owner</td>\n",
       "      <td>Neutered Male</td>\n",
       "      <td>2555</td>\n",
       "      <td>7.0</td>\n",
       "      <td>(5.0, 7.5]</td>\n",
       "      <td>2014-12-20 16:35:00</td>\n",
       "      <td>...</td>\n",
       "      <td>(5.0, 7.5]</td>\n",
       "      <td>2014-12-19 10:21:00</td>\n",
       "      <td>12</td>\n",
       "      <td>2014</td>\n",
       "      <td>2014-12</td>\n",
       "      <td>Friday</td>\n",
       "      <td>10</td>\n",
       "      <td>2.0</td>\n",
       "      <td>1 days 06:14:00.000000000</td>\n",
       "      <td>1.259722</td>\n",
       "    </tr>\n",
       "    <tr>\n",
       "      <th>2</th>\n",
       "      <td>6 years</td>\n",
       "      <td>A006100</td>\n",
       "      <td>2007-07-09 00:00:00</td>\n",
       "      <td>NaN</td>\n",
       "      <td>Return to Owner</td>\n",
       "      <td>Neutered Male</td>\n",
       "      <td>2190</td>\n",
       "      <td>6.0</td>\n",
       "      <td>(5.0, 7.5]</td>\n",
       "      <td>2014-03-08 17:10:00</td>\n",
       "      <td>...</td>\n",
       "      <td>(5.0, 7.5]</td>\n",
       "      <td>2014-03-07 14:26:00</td>\n",
       "      <td>3</td>\n",
       "      <td>2014</td>\n",
       "      <td>2014-03</td>\n",
       "      <td>Friday</td>\n",
       "      <td>14</td>\n",
       "      <td>3.0</td>\n",
       "      <td>1 days 02:44:00.000000000</td>\n",
       "      <td>1.113889</td>\n",
       "    </tr>\n",
       "    <tr>\n",
       "      <th>3</th>\n",
       "      <td>10 years</td>\n",
       "      <td>A047759</td>\n",
       "      <td>2004-04-02 00:00:00</td>\n",
       "      <td>Partner</td>\n",
       "      <td>Transfer</td>\n",
       "      <td>Neutered Male</td>\n",
       "      <td>3650</td>\n",
       "      <td>10.0</td>\n",
       "      <td>(7.5, 10.0]</td>\n",
       "      <td>2014-04-07 15:12:00</td>\n",
       "      <td>...</td>\n",
       "      <td>(7.5, 10.0]</td>\n",
       "      <td>2014-04-02 15:55:00</td>\n",
       "      <td>4</td>\n",
       "      <td>2014</td>\n",
       "      <td>2014-04</td>\n",
       "      <td>Wednesday</td>\n",
       "      <td>15</td>\n",
       "      <td>1.0</td>\n",
       "      <td>4 days 23:17:00.000000000</td>\n",
       "      <td>4.970139</td>\n",
       "    </tr>\n",
       "    <tr>\n",
       "      <th>4</th>\n",
       "      <td>16 years</td>\n",
       "      <td>A134067</td>\n",
       "      <td>1997-10-16 00:00:00</td>\n",
       "      <td>NaN</td>\n",
       "      <td>Return to Owner</td>\n",
       "      <td>Neutered Male</td>\n",
       "      <td>5840</td>\n",
       "      <td>16.0</td>\n",
       "      <td>(15.0, 17.5]</td>\n",
       "      <td>2013-11-16 11:54:00</td>\n",
       "      <td>...</td>\n",
       "      <td>(15.0, 17.5]</td>\n",
       "      <td>2013-11-16 09:02:00</td>\n",
       "      <td>11</td>\n",
       "      <td>2013</td>\n",
       "      <td>2013-11</td>\n",
       "      <td>Saturday</td>\n",
       "      <td>9</td>\n",
       "      <td>1.0</td>\n",
       "      <td>0 days 02:52:00.000000000</td>\n",
       "      <td>0.119444</td>\n",
       "    </tr>\n",
       "    <tr>\n",
       "      <th>...</th>\n",
       "      <td>...</td>\n",
       "      <td>...</td>\n",
       "      <td>...</td>\n",
       "      <td>...</td>\n",
       "      <td>...</td>\n",
       "      <td>...</td>\n",
       "      <td>...</td>\n",
       "      <td>...</td>\n",
       "      <td>...</td>\n",
       "      <td>...</td>\n",
       "      <td>...</td>\n",
       "      <td>...</td>\n",
       "      <td>...</td>\n",
       "      <td>...</td>\n",
       "      <td>...</td>\n",
       "      <td>...</td>\n",
       "      <td>...</td>\n",
       "      <td>...</td>\n",
       "      <td>...</td>\n",
       "      <td>...</td>\n",
       "      <td>...</td>\n",
       "    </tr>\n",
       "    <tr>\n",
       "      <th>95</th>\n",
       "      <td>15 years</td>\n",
       "      <td>A317783</td>\n",
       "      <td>2002-02-10 00:00:00</td>\n",
       "      <td>NaN</td>\n",
       "      <td>Return to Owner</td>\n",
       "      <td>Spayed Female</td>\n",
       "      <td>5475</td>\n",
       "      <td>15.0</td>\n",
       "      <td>(12.5, 15.0]</td>\n",
       "      <td>2017-02-25 16:35:00</td>\n",
       "      <td>...</td>\n",
       "      <td>(12.5, 15.0]</td>\n",
       "      <td>2017-02-25 14:02:00</td>\n",
       "      <td>2</td>\n",
       "      <td>2017</td>\n",
       "      <td>2017-02</td>\n",
       "      <td>Saturday</td>\n",
       "      <td>14</td>\n",
       "      <td>1.0</td>\n",
       "      <td>0 days 02:33:00.000000000</td>\n",
       "      <td>0.106250</td>\n",
       "    </tr>\n",
       "    <tr>\n",
       "      <th>96</th>\n",
       "      <td>13 years</td>\n",
       "      <td>A318500</td>\n",
       "      <td>2001-08-18 00:00:00</td>\n",
       "      <td>NaN</td>\n",
       "      <td>Return to Owner</td>\n",
       "      <td>Neutered Male</td>\n",
       "      <td>4745</td>\n",
       "      <td>13.0</td>\n",
       "      <td>(12.5, 15.0]</td>\n",
       "      <td>2014-10-08 16:13:00</td>\n",
       "      <td>...</td>\n",
       "      <td>(12.5, 15.0]</td>\n",
       "      <td>2014-10-01 15:41:00</td>\n",
       "      <td>10</td>\n",
       "      <td>2014</td>\n",
       "      <td>2014-10</td>\n",
       "      <td>Wednesday</td>\n",
       "      <td>15</td>\n",
       "      <td>1.0</td>\n",
       "      <td>7 days 00:32:00.000000000</td>\n",
       "      <td>7.022222</td>\n",
       "    </tr>\n",
       "    <tr>\n",
       "      <th>97</th>\n",
       "      <td>13 years</td>\n",
       "      <td>A318574</td>\n",
       "      <td>2003-04-19 00:00:00</td>\n",
       "      <td>Suffering</td>\n",
       "      <td>Euthanasia</td>\n",
       "      <td>Neutered Male</td>\n",
       "      <td>4745</td>\n",
       "      <td>13.0</td>\n",
       "      <td>(12.5, 15.0]</td>\n",
       "      <td>2016-05-23 12:54:00</td>\n",
       "      <td>...</td>\n",
       "      <td>(12.5, 15.0]</td>\n",
       "      <td>2016-04-27 18:17:00</td>\n",
       "      <td>4</td>\n",
       "      <td>2016</td>\n",
       "      <td>2016-04</td>\n",
       "      <td>Wednesday</td>\n",
       "      <td>18</td>\n",
       "      <td>1.0</td>\n",
       "      <td>25 days 18:37:00.000000000</td>\n",
       "      <td>25.775694</td>\n",
       "    </tr>\n",
       "    <tr>\n",
       "      <th>98</th>\n",
       "      <td>12 years</td>\n",
       "      <td>A318574</td>\n",
       "      <td>2003-04-19 00:00:00</td>\n",
       "      <td>NaN</td>\n",
       "      <td>Adoption</td>\n",
       "      <td>Neutered Male</td>\n",
       "      <td>4380</td>\n",
       "      <td>12.0</td>\n",
       "      <td>(10.0, 12.5]</td>\n",
       "      <td>2015-07-31 17:02:00</td>\n",
       "      <td>...</td>\n",
       "      <td>(10.0, 12.5]</td>\n",
       "      <td>2015-06-13 14:41:00</td>\n",
       "      <td>6</td>\n",
       "      <td>2015</td>\n",
       "      <td>2015-06</td>\n",
       "      <td>Saturday</td>\n",
       "      <td>14</td>\n",
       "      <td>2.0</td>\n",
       "      <td>48 days 02:21:00.000000000</td>\n",
       "      <td>48.097917</td>\n",
       "    </tr>\n",
       "    <tr>\n",
       "      <th>99</th>\n",
       "      <td>14 years</td>\n",
       "      <td>A318615</td>\n",
       "      <td>2001-02-24 00:00:00</td>\n",
       "      <td>Suffering</td>\n",
       "      <td>Euthanasia</td>\n",
       "      <td>Neutered Male</td>\n",
       "      <td>5110</td>\n",
       "      <td>14.0</td>\n",
       "      <td>(12.5, 15.0]</td>\n",
       "      <td>2015-03-30 15:33:00</td>\n",
       "      <td>...</td>\n",
       "      <td>(12.5, 15.0]</td>\n",
       "      <td>2015-03-30 15:06:00</td>\n",
       "      <td>3</td>\n",
       "      <td>2015</td>\n",
       "      <td>2015-03</td>\n",
       "      <td>Monday</td>\n",
       "      <td>15</td>\n",
       "      <td>1.0</td>\n",
       "      <td>0 days 00:27:00.000000000</td>\n",
       "      <td>0.018750</td>\n",
       "    </tr>\n",
       "  </tbody>\n",
       "</table>\n",
       "<p>100 rows × 41 columns</p>\n",
       "</div>"
      ],
      "text/plain": [
       "   age_upon_outcome animal_id_outcome        date_of_birth outcome_subtype  \\\n",
       "0          10 years           A006100  2007-07-09 00:00:00             NaN   \n",
       "1           7 years           A006100  2007-07-09 00:00:00             NaN   \n",
       "2           6 years           A006100  2007-07-09 00:00:00             NaN   \n",
       "3          10 years           A047759  2004-04-02 00:00:00         Partner   \n",
       "4          16 years           A134067  1997-10-16 00:00:00             NaN   \n",
       "..              ...               ...                  ...             ...   \n",
       "95         15 years           A317783  2002-02-10 00:00:00             NaN   \n",
       "96         13 years           A318500  2001-08-18 00:00:00             NaN   \n",
       "97         13 years           A318574  2003-04-19 00:00:00       Suffering   \n",
       "98         12 years           A318574  2003-04-19 00:00:00             NaN   \n",
       "99         14 years           A318615  2001-02-24 00:00:00       Suffering   \n",
       "\n",
       "       outcome_type sex_upon_outcome  age_upon_outcome_(days)  \\\n",
       "0   Return to Owner    Neutered Male                     3650   \n",
       "1   Return to Owner    Neutered Male                     2555   \n",
       "2   Return to Owner    Neutered Male                     2190   \n",
       "3          Transfer    Neutered Male                     3650   \n",
       "4   Return to Owner    Neutered Male                     5840   \n",
       "..              ...              ...                      ...   \n",
       "95  Return to Owner    Spayed Female                     5475   \n",
       "96  Return to Owner    Neutered Male                     4745   \n",
       "97       Euthanasia    Neutered Male                     4745   \n",
       "98         Adoption    Neutered Male                     4380   \n",
       "99       Euthanasia    Neutered Male                     5110   \n",
       "\n",
       "    age_upon_outcome_(years) age_upon_outcome_age_group     outcome_datetime  \\\n",
       "0                       10.0                (7.5, 10.0]  2017-12-07 14:07:00   \n",
       "1                        7.0                 (5.0, 7.5]  2014-12-20 16:35:00   \n",
       "2                        6.0                 (5.0, 7.5]  2014-03-08 17:10:00   \n",
       "3                       10.0                (7.5, 10.0]  2014-04-07 15:12:00   \n",
       "4                       16.0               (15.0, 17.5]  2013-11-16 11:54:00   \n",
       "..                       ...                        ...                  ...   \n",
       "95                      15.0               (12.5, 15.0]  2017-02-25 16:35:00   \n",
       "96                      13.0               (12.5, 15.0]  2014-10-08 16:13:00   \n",
       "97                      13.0               (12.5, 15.0]  2016-05-23 12:54:00   \n",
       "98                      12.0               (10.0, 12.5]  2015-07-31 17:02:00   \n",
       "99                      14.0               (12.5, 15.0]  2015-03-30 15:33:00   \n",
       "\n",
       "    ...  age_upon_intake_age_group      intake_datetime intake_month  \\\n",
       "0   ...                (7.5, 10.0]  2017-12-07 00:00:00           12   \n",
       "1   ...                 (5.0, 7.5]  2014-12-19 10:21:00           12   \n",
       "2   ...                 (5.0, 7.5]  2014-03-07 14:26:00            3   \n",
       "3   ...                (7.5, 10.0]  2014-04-02 15:55:00            4   \n",
       "4   ...               (15.0, 17.5]  2013-11-16 09:02:00           11   \n",
       "..  ...                        ...                  ...          ...   \n",
       "95  ...               (12.5, 15.0]  2017-02-25 14:02:00            2   \n",
       "96  ...               (12.5, 15.0]  2014-10-01 15:41:00           10   \n",
       "97  ...               (12.5, 15.0]  2016-04-27 18:17:00            4   \n",
       "98  ...               (10.0, 12.5]  2015-06-13 14:41:00            6   \n",
       "99  ...               (12.5, 15.0]  2015-03-30 15:06:00            3   \n",
       "\n",
       "   intake_year  intake_monthyear  intake_weekday  intake_hour  intake_number  \\\n",
       "0         2017           2017-12        Thursday           14            1.0   \n",
       "1         2014           2014-12          Friday           10            2.0   \n",
       "2         2014           2014-03          Friday           14            3.0   \n",
       "3         2014           2014-04       Wednesday           15            1.0   \n",
       "4         2013           2013-11        Saturday            9            1.0   \n",
       "..         ...               ...             ...          ...            ...   \n",
       "95        2017           2017-02        Saturday           14            1.0   \n",
       "96        2014           2014-10       Wednesday           15            1.0   \n",
       "97        2016           2016-04       Wednesday           18            1.0   \n",
       "98        2015           2015-06        Saturday           14            2.0   \n",
       "99        2015           2015-03          Monday           15            1.0   \n",
       "\n",
       "               time_in_shelter time_in_shelter_days  \n",
       "0    0 days 14:07:00.000000000             0.588194  \n",
       "1    1 days 06:14:00.000000000             1.259722  \n",
       "2    1 days 02:44:00.000000000             1.113889  \n",
       "3    4 days 23:17:00.000000000             4.970139  \n",
       "4    0 days 02:52:00.000000000             0.119444  \n",
       "..                         ...                  ...  \n",
       "95   0 days 02:33:00.000000000             0.106250  \n",
       "96   7 days 00:32:00.000000000             7.022222  \n",
       "97  25 days 18:37:00.000000000            25.775694  \n",
       "98  48 days 02:21:00.000000000            48.097917  \n",
       "99   0 days 00:27:00.000000000             0.018750  \n",
       "\n",
       "[100 rows x 41 columns]"
      ]
     },
     "execution_count": 91,
     "metadata": {},
     "output_type": "execute_result"
    }
   ],
   "source": [
    "intakes_outcomes.head(100)"
   ]
  },
  {
   "cell_type": "markdown",
   "id": "9ef54d87-ae8a-461a-b238-26acb7a27fc5",
   "metadata": {},
   "source": [
    "# Found Pets 6/6"
   ]
  },
  {
   "cell_type": "markdown",
   "id": "1e8b9a28-e8ca-49fb-9a56-bc934cae095a",
   "metadata": {},
   "source": [
    "## Meets Expectations\n",
    "- The following question:\n",
    "    - [x] \"is there an area where more pets are found?\" is answered\n",
    "    - [x] The answer includes the top 5 places where animals are found\n",
    "- [x] There is an explanation of how the answer was calculated "
   ]
  },
  {
   "cell_type": "markdown",
   "id": "16f641de-31df-446e-ba63-b29f6b60498c",
   "metadata": {},
   "source": [
    "### Explanation\n",
    "\n",
    "Question 1: First I gathered the value that has the most unique occurance by using the `mode()` method on the dataFrame. \n",
    "\n",
    "Question 2: Then I would use the `value_counts()` method on the dataFrame to then count each occurance of the values in the column found_location. This was then trimmed down to the top 5 results with the `head()` method"
   ]
  },
  {
   "cell_type": "code",
   "execution_count": 10,
   "id": "14c4f795-92c7-45ac-b497-dbfc5973c2f6",
   "metadata": {},
   "outputs": [
    {
     "data": {
      "text/plain": [
       "0    Austin (TX)\n",
       "Name: found_location, dtype: object"
      ]
     },
     "execution_count": 10,
     "metadata": {},
     "output_type": "execute_result"
    }
   ],
   "source": [
    "# Question 1\n",
    "\n",
    "intakes['found_location'].mode()"
   ]
  },
  {
   "cell_type": "code",
   "execution_count": 11,
   "id": "4fc53be4-a0a5-429f-854f-b80031e7c585",
   "metadata": {},
   "outputs": [
    {
     "data": {
      "text/plain": [
       "found_location\n",
       "Austin (TX)                          14443\n",
       "Outside Jurisdiction                   948\n",
       "Travis (TX)                            921\n",
       "7201 Levander Loop in Austin (TX)      517\n",
       "Del Valle (TX)                         411\n",
       "Name: count, dtype: int64"
      ]
     },
     "execution_count": 11,
     "metadata": {},
     "output_type": "execute_result"
    }
   ],
   "source": [
    "# Question 2\n",
    "\n",
    "intakes['found_location'].value_counts().head(5)"
   ]
  },
  {
   "cell_type": "markdown",
   "id": "a9f34b1a-52b7-42c6-b007-80a851a8bea0",
   "metadata": {},
   "source": [
    "## Exceeds Expectations\n",
    "- The questions:\n",
    "    - [x] How many animals in the shelter are repeats?\n",
    "    - [x] Which animal was returned to the shelter the most?\n",
    "- [x] There is an explanation of how the answer was calculated for both questions"
   ]
  },
  {
   "cell_type": "markdown",
   "id": "851905df-5ffb-44a0-9039-f123754231ba",
   "metadata": {},
   "source": [
    "### Explanation\n",
    "\n",
    "Question 1: First thing I did was to calculate the occurances of each animal_id with `value_counts()` method. This initially returns a `Series`, so I then use the `reset_index()` method to coerce the results into a dataframe. Then I added column names with the `columns` method. \n",
    "\n",
    "Question 2: Next I took the returned_pets df results and `merge`d them with the intakes.csv. After I did this, I just used the `head()` method to pull the top result. "
   ]
  },
  {
   "cell_type": "code",
   "execution_count": 14,
   "id": "ce109317-59d4-4ae9-b495-f08f6efad12d",
   "metadata": {},
   "outputs": [
    {
     "data": {
      "text/plain": [
       "72365"
      ]
     },
     "execution_count": 14,
     "metadata": {},
     "output_type": "execute_result"
    }
   ],
   "source": [
    "# Question 1\n",
    "\n",
    "returned_pets = intakes['animal_id'].value_counts().reset_index()\n",
    "returned_pets.columns = ['animal_id', 'count']\n",
    "returned_pets.shape[0]"
   ]
  },
  {
   "cell_type": "code",
   "execution_count": 15,
   "id": "1a589c9c-42cc-4abe-8c0a-e20cace1f304",
   "metadata": {},
   "outputs": [
    {
     "data": {
      "text/html": [
       "<div>\n",
       "<style scoped>\n",
       "    .dataframe tbody tr th:only-of-type {\n",
       "        vertical-align: middle;\n",
       "    }\n",
       "\n",
       "    .dataframe tbody tr th {\n",
       "        vertical-align: top;\n",
       "    }\n",
       "\n",
       "    .dataframe thead th {\n",
       "        text-align: right;\n",
       "    }\n",
       "</style>\n",
       "<table border=\"1\" class=\"dataframe\">\n",
       "  <thead>\n",
       "    <tr style=\"text-align: right;\">\n",
       "      <th></th>\n",
       "      <th>animal_id</th>\n",
       "      <th>count</th>\n",
       "      <th>name</th>\n",
       "    </tr>\n",
       "  </thead>\n",
       "  <tbody>\n",
       "    <tr>\n",
       "      <th>0</th>\n",
       "      <td>A721033</td>\n",
       "      <td>13</td>\n",
       "      <td>Lil Bit</td>\n",
       "    </tr>\n",
       "  </tbody>\n",
       "</table>\n",
       "</div>"
      ],
      "text/plain": [
       "  animal_id  count     name\n",
       "0   A721033     13  Lil Bit"
      ]
     },
     "execution_count": 15,
     "metadata": {},
     "output_type": "execute_result"
    }
   ],
   "source": [
    "# Question 2\n",
    "\n",
    "returned_pets.merge(intakes[['animal_id', 'name']], on='animal_id', how='left').head(1)"
   ]
  },
  {
   "cell_type": "markdown",
   "id": "55faf86d-5b62-4734-83af-2148363bf029",
   "metadata": {},
   "source": [
    "# Average Found Pets 3/3"
   ]
  },
  {
   "cell_type": "markdown",
   "id": "bf005822-3493-4bb5-8eef-a40007924962",
   "metadata": {},
   "source": [
    "## Meets Expectations\n",
    "- The question:\n",
    "    - [x] \"What is the average number of pets found in a month in the year 2015?\n",
    "    - [x] Are there months where there is a higher number of animals found?\n",
    "- [x] There is an explanation of how the answer was calculated for both questions "
   ]
  },
  {
   "cell_type": "markdown",
   "id": "6453d857-ed8f-4aeb-8a60-20fcca26c46a",
   "metadata": {},
   "source": [
    "### Explanation\n",
    "\n",
    "Question 1: Initially, I need to filter the intakes_outcomes df down to 2015 in the `intake_year` column and store that into a variable `filter_by_year`. I utilized a simple comparison with `==` to accomplish this task. Next I utilized the `groupby` method on the `filter_by_year` variable, to group/sort the `intake_month`'s together and stored that in the variable `group_by_month`. Then I wanted to specifically get the number of index entries in the group (which is grouped per month), and since `size()` doesn't look at values in columns which aren't related to what I'm grouping by, this was my preferred choice over `count()`. Finally, I would take the `group_by_month` results and grab the `mean()`, which returns an average of 1558 pets found in a month during the year 2015. I would then store these results in a variable `average_count`.\n",
    "\n",
    "Question 2: Next, in order to find the months that are above average intake rates, I had to calculate a few different things:\n",
    "1) I had to take the average monthly intake numbers and compare to the actual monthly intake counts\n",
    "2) Next i had to then compare the counts to the average. I also added a boolean column to the result dataframe that'll show `true`/`false` if the monthly count is higher than the average count. "
   ]
  },
  {
   "cell_type": "code",
   "execution_count": 19,
   "id": "5c295a5b-bc32-4741-b5b9-46d74a6c3422",
   "metadata": {},
   "outputs": [
    {
     "name": "stdout",
     "output_type": "stream",
     "text": [
      "The average monthly number of pets found in 2015 is:  1558.25\n"
     ]
    }
   ],
   "source": [
    "# Question 1\n",
    "\n",
    "# i need to reduce to the year 2015\n",
    "filter_by_year = intakes_outcomes[intakes_outcomes['intake_year'] == 2015]\n",
    "# order by month and count for each month and average the results\n",
    "print('The average monthly number of pets found in 2015 is: ',filter_by_year.groupby('intake_month').size().mean())"
   ]
  },
  {
   "cell_type": "code",
   "execution_count": 20,
   "id": "fbe38caa-05a9-48ba-bffa-321aec8a3296",
   "metadata": {},
   "outputs": [
    {
     "name": "stdout",
     "output_type": "stream",
     "text": [
      "Months with above average numbers of animals found: \n",
      "   intake_month  count  above_average\n",
      "4             5   2092           True\n",
      "5             6   2188           True\n",
      "6             7   1634           True\n",
      "7             8   1717           True\n",
      "8             9   1590           True\n",
      "9            10   1738           True\n"
     ]
    }
   ],
   "source": [
    "# Question 2\n",
    "\n",
    "# Get the average for results_by_month\n",
    "monthly_counts = filter_by_year.groupby('intake_month').size().reset_index(name='count')\n",
    "monthly_average = monthly_counts['count'].mean()\n",
    "# compare the monthly counts to the monthly average\n",
    "monthly_counts['above_average'] = monthly_counts['count'] > monthly_average\n",
    "# create a dataframe with a specific boolean column for 'above_average' counts\n",
    "months_above_average = monthly_counts[monthly_counts['above_average']]\n",
    "print('Months with above average numbers of animals found: ')\n",
    "print(months_above_average)"
   ]
  },
  {
   "cell_type": "markdown",
   "id": "8a0591c0-c271-4429-96f3-ef5ea43399c6",
   "metadata": {},
   "source": [
    "# Ratio of Incoming vs Outgoing 2/2"
   ]
  },
  {
   "cell_type": "markdown",
   "id": "890b1ef4-f54b-4a64-afe5-b47ec004accb",
   "metadata": {},
   "source": [
    "## Meets Expectations\n",
    "- The question:\n",
    "    - [x] What is the ratio of incoming pets vs adopted pets?\n",
    "- [x] There is an explanation of how the answer was calculated  "
   ]
  },
  {
   "cell_type": "markdown",
   "id": "71e0239b-7419-41c3-a4d1-34c30b89bc9a",
   "metadata": {},
   "source": [
    "### Explanation\n",
    "\n",
    "Question 1: First I filtered the intake dataframe's column of `intake_type` to exclude the word `euthanasia`. This is because those aren't going to be an available for adoption. Next I filtered the `intakes_outcomes` column `outcome_type` to only keep the rows with the value of `adoption`. I've used the method `df.str.contains` on both of these filters due to the ease of filtering based off of a value, whether its case specific or not, and if I wanted to keep rows with any na values. \n",
    "\n",
    "Once I got those results, in order to find the ratio of incoming pets vs adopted pets, I just used basic arithmatic to divide the `intakes_filtered.shape[0]` against the `adopted_pets_count`. \n",
    "\n",
    "This gives the ratio of: 2.379....."
   ]
  },
  {
   "cell_type": "code",
   "execution_count": 24,
   "id": "90a83607-9dac-4b93-9274-09e97bc09f41",
   "metadata": {},
   "outputs": [
    {
     "name": "stdout",
     "output_type": "stream",
     "text": [
      "Ratio of incoming pets vs adopted pets: 2.379472524855629\n"
     ]
    }
   ],
   "source": [
    "# Question 1\n",
    "\n",
    "# Filter the intakes DataFrame to exclude \"euthanasia\"\n",
    "intakes_filtered = intakes[~intakes['intake_type'].str.contains('euthanasia', case=False, na=False)]\n",
    "# Then filter the intakes_outcomes DataFrame to keep only \"Adoption\"\n",
    "intakes_outcomes_filtered = intakes_outcomes[intakes_outcomes['outcome_type'].str.contains('Adoption', case=False, na=False)]\n",
    "# Finally group by outcome_type and count\n",
    "outcome_counts = intakes_outcomes_filtered.groupby('outcome_type').size()\n",
    "adopted_pets_count = intakes_outcomes_filtered.shape[0] \n",
    "# Calculate the ration (ratio = intake / adopted)\n",
    "ratio = intakes_filtered.shape[0] / adopted_pets_count\n",
    "print(\"Ratio of incoming pets vs adopted pets:\", ratio)"
   ]
  },
  {
   "cell_type": "markdown",
   "id": "12cf2379-f17f-44da-95b1-aab482c54c42",
   "metadata": {},
   "source": [
    "# Animal Distribution 3/3"
   ]
  },
  {
   "cell_type": "markdown",
   "id": "1828037a-a3b9-4dd9-a8ba-86039f93102a",
   "metadata": {},
   "source": [
    "## Meets Expectations\n",
    "- The question:\n",
    "    - [x] What is the distribution of the types of animals in the shelter?\n",
    "    - [x] The count of each type of animal in the shelter is detailed\n",
    "- [x] There is an explanation of how the answer was calculated "
   ]
  },
  {
   "cell_type": "markdown",
   "id": "fb642193-3712-46af-b5f9-dfecfa3de887",
   "metadata": {},
   "source": [
    "### Explanation\n",
    "\n",
    "Question 1: The first thing I had to gather was the quantity for each *animal_type*. I decided on the `size()` method simply because it counts the repetition of each unique value within the *animal_type* column, and returns a Series. This seems to be more appropriate than `count()` because I only need a Series and not a whole new dataframe. \n",
    "\n",
    "Question 2: The next thing step that I took was to then take the type_of_animal_count Series, and divide by the `sum()` and multiply that by 100 in order to get the percentages of each *animal_type*. Only issue was this returned a 9 digit float, and I only wanted to return a common 2 digit float. To accomplish this, I used the `round(2)` method to round the number to the nearest hundreth place. "
   ]
  },
  {
   "cell_type": "code",
   "execution_count": 28,
   "id": "777441bc-22c8-4208-9073-efd3a0e0b85b",
   "metadata": {},
   "outputs": [
    {
     "name": "stdout",
     "output_type": "stream",
     "text": [
      "Here is the count for each type of animal that is in the shelter:\n"
     ]
    },
    {
     "data": {
      "text/plain": [
       "animal_type\n",
       "Bird           342\n",
       "Cat          29659\n",
       "Dog          45743\n",
       "Livestock        9\n",
       "Other         4434\n",
       "dtype: int64"
      ]
     },
     "execution_count": 28,
     "metadata": {},
     "output_type": "execute_result"
    }
   ],
   "source": [
    "# Question 1\n",
    "\n",
    "# The count for each animale_type\n",
    "type_of_animal_count = intakes.groupby('animal_type').size()\n",
    "print(\"Here is the count for each type of animal that is in the shelter:\")\n",
    "type_of_animal_count"
   ]
  },
  {
   "cell_type": "code",
   "execution_count": 29,
   "id": "491ebb5e-2702-429b-b8b0-bb3d34ae6518",
   "metadata": {},
   "outputs": [
    {
     "name": "stdout",
     "output_type": "stream",
     "text": [
      "Here is the breakdown of the distribution for each animal type:\n"
     ]
    },
    {
     "data": {
      "text/plain": [
       "animal_type\n",
       "Bird          0.43\n",
       "Cat          36.99\n",
       "Dog          57.05\n",
       "Livestock     0.01\n",
       "Other         5.53\n",
       "dtype: float64"
      ]
     },
     "execution_count": 29,
     "metadata": {},
     "output_type": "execute_result"
    }
   ],
   "source": [
    "# Question 2\n",
    "\n",
    "# Get the percentage breakdown for each animal type\n",
    "animal_population_percentages = (type_of_animal_count / type_of_animal_count.sum()) * 100\n",
    "print(\"Here is the breakdown of the distribution for each animal type:\")\n",
    "animal_population_percentages.round(2)"
   ]
  },
  {
   "cell_type": "markdown",
   "id": "13dc4d98-c248-4975-b17f-d9fe7e7ff554",
   "metadata": {},
   "source": [
    "# Adoption Rates 10/10"
   ]
  },
  {
   "cell_type": "markdown",
   "id": "e732b543-1b5c-4075-b843-4c3712049cb9",
   "metadata": {},
   "source": [
    "## Meets Expectations\n",
    "- The questions:\n",
    "    - [x] What are the adoption rates for specific breeds\n",
    "    - [X] What are the adoption rates for different colorings\n",
    "    - [x] The top 5 colorings in the shelter (based on count) and the adoption percentage of each color\n",
    "- [x] There is an explanation of how the answer was calculated for these questions "
   ]
  },
  {
   "cell_type": "markdown",
   "id": "e905a888-dbbb-4459-9fab-70e42976967e",
   "metadata": {},
   "source": [
    "### Explanations\n",
    "Question 1: First thing I had to do was merge the intakes and outcomes csv, so that I can query the both columns simultaneously. After the merged data is set in a variable, I set the total count of each `breed_intake` value to a variable for later. Next I had to filter down to only show the value of `Adoption` in the `outcome_type` column. I also used the `value_counts()` method to count the results. The last thing I had to do was to just divide the two results and multiply by 100 in order to get the percentages for the adoption rate for each specific breed. \n",
    "\n",
    "Question 2: For this question, I gathered the total count for each color and created a seperate dataframe with the results, which will assist with the ease of calculating the percentages later. Next I queried for the total count of `Adoptions` and then merged these results into the dataframe created. Now that I have both the total color count and the total adoptions count based on color I can calculate the percentage.  \n",
    "\n",
    "Question 3: The answer here is basically the same as Question 2's answer. Only differnce is that I filtered the total color count to only display the top 5 color counts. Then I calculated the adoption counts based on the top 5 colors. Lastly I would then calculate the percentage of adoption based on the top 5 color counts. "
   ]
  },
  {
   "cell_type": "code",
   "execution_count": 33,
   "id": "231cbbc6-a46e-4491-bc1b-3f8acb2a1925",
   "metadata": {},
   "outputs": [
    {
     "data": {
      "text/plain": [
       "breed_intake\n",
       "Abyssinian Mix                                    75.00\n",
       "Affenpinscher Mix                                 66.67\n",
       "Afghan Hound Mix                                   0.00\n",
       "Afghan Hound/Labrador Retriever                  100.00\n",
       "African Mix                                        0.00\n",
       "                                                  ...  \n",
       "Yorkshire Terrier/Shih Tzu                        66.67\n",
       "Yorkshire Terrier/Soft Coated Wheaten Terrier    100.00\n",
       "Yorkshire Terrier/Standard Poodle                  0.00\n",
       "Yorkshire Terrier/Toy Poodle                       0.00\n",
       "Yorkshire Terrier/Yorkshire Terrier              100.00\n",
       "Name: count, Length: 2159, dtype: float64"
      ]
     },
     "execution_count": 33,
     "metadata": {},
     "output_type": "execute_result"
    }
   ],
   "source": [
    "# Question 1\n",
    "\n",
    "# merge intakes and outcomes\n",
    "merged_datasets = intakes.merge(outcomes, on='animal_id', suffixes=('_intake','_outcome'))\n",
    "\n",
    "# Adoption rates for the specific breeds\n",
    "intakes_count = merged_datasets['breed_intake'].value_counts()\n",
    "total_adoptions_for_breeds = merged_datasets.loc[merged_datasets['outcome_type'] == 'Adoption', 'breed_intake'].value_counts()\n",
    "adoption_percentages = (total_adoptions_for_breeds / intakes_count * 100).fillna(0).round(2)\n",
    "adoption_percentages"
   ]
  },
  {
   "cell_type": "code",
   "execution_count": 34,
   "id": "082f9512-5df7-4540-a87f-8cd2c1952e06",
   "metadata": {},
   "outputs": [
    {
     "data": {
      "text/html": [
       "<div>\n",
       "<style scoped>\n",
       "    .dataframe tbody tr th:only-of-type {\n",
       "        vertical-align: middle;\n",
       "    }\n",
       "\n",
       "    .dataframe tbody tr th {\n",
       "        vertical-align: top;\n",
       "    }\n",
       "\n",
       "    .dataframe thead th {\n",
       "        text-align: right;\n",
       "    }\n",
       "</style>\n",
       "<table border=\"1\" class=\"dataframe\">\n",
       "  <thead>\n",
       "    <tr style=\"text-align: right;\">\n",
       "      <th></th>\n",
       "      <th>color</th>\n",
       "      <th>total_intakes</th>\n",
       "      <th>total_adoptions</th>\n",
       "      <th>adoption_percentage</th>\n",
       "    </tr>\n",
       "  </thead>\n",
       "  <tbody>\n",
       "    <tr>\n",
       "      <th>0</th>\n",
       "      <td>Black/White</td>\n",
       "      <td>10814</td>\n",
       "      <td>4991.0</td>\n",
       "      <td>46.15</td>\n",
       "    </tr>\n",
       "    <tr>\n",
       "      <th>1</th>\n",
       "      <td>Black</td>\n",
       "      <td>7842</td>\n",
       "      <td>3234.0</td>\n",
       "      <td>41.24</td>\n",
       "    </tr>\n",
       "    <tr>\n",
       "      <th>2</th>\n",
       "      <td>Brown Tabby</td>\n",
       "      <td>4840</td>\n",
       "      <td>2116.0</td>\n",
       "      <td>43.72</td>\n",
       "    </tr>\n",
       "    <tr>\n",
       "      <th>3</th>\n",
       "      <td>Brown</td>\n",
       "      <td>4124</td>\n",
       "      <td>1047.0</td>\n",
       "      <td>25.39</td>\n",
       "    </tr>\n",
       "    <tr>\n",
       "      <th>4</th>\n",
       "      <td>Brown/White</td>\n",
       "      <td>3690</td>\n",
       "      <td>1579.0</td>\n",
       "      <td>42.79</td>\n",
       "    </tr>\n",
       "    <tr>\n",
       "      <th>...</th>\n",
       "      <td>...</td>\n",
       "      <td>...</td>\n",
       "      <td>...</td>\n",
       "      <td>...</td>\n",
       "    </tr>\n",
       "    <tr>\n",
       "      <th>524</th>\n",
       "      <td>Seal Point/Buff</td>\n",
       "      <td>1</td>\n",
       "      <td>0.0</td>\n",
       "      <td>0.00</td>\n",
       "    </tr>\n",
       "    <tr>\n",
       "      <th>525</th>\n",
       "      <td>Cream/Brown Merle</td>\n",
       "      <td>1</td>\n",
       "      <td>0.0</td>\n",
       "      <td>0.00</td>\n",
       "    </tr>\n",
       "    <tr>\n",
       "      <th>526</th>\n",
       "      <td>Tan/Yellow Brindle</td>\n",
       "      <td>1</td>\n",
       "      <td>0.0</td>\n",
       "      <td>0.00</td>\n",
       "    </tr>\n",
       "    <tr>\n",
       "      <th>527</th>\n",
       "      <td>Black/Gold</td>\n",
       "      <td>1</td>\n",
       "      <td>0.0</td>\n",
       "      <td>0.00</td>\n",
       "    </tr>\n",
       "    <tr>\n",
       "      <th>528</th>\n",
       "      <td>Red Merle/Red Merle</td>\n",
       "      <td>1</td>\n",
       "      <td>0.0</td>\n",
       "      <td>0.00</td>\n",
       "    </tr>\n",
       "  </tbody>\n",
       "</table>\n",
       "<p>529 rows × 4 columns</p>\n",
       "</div>"
      ],
      "text/plain": [
       "                   color  total_intakes  total_adoptions  adoption_percentage\n",
       "0            Black/White          10814           4991.0                46.15\n",
       "1                  Black           7842           3234.0                41.24\n",
       "2            Brown Tabby           4840           2116.0                43.72\n",
       "3                  Brown           4124           1047.0                25.39\n",
       "4            Brown/White           3690           1579.0                42.79\n",
       "..                   ...            ...              ...                  ...\n",
       "524      Seal Point/Buff              1              0.0                 0.00\n",
       "525    Cream/Brown Merle              1              0.0                 0.00\n",
       "526   Tan/Yellow Brindle              1              0.0                 0.00\n",
       "527           Black/Gold              1              0.0                 0.00\n",
       "528  Red Merle/Red Merle              1              0.0                 0.00\n",
       "\n",
       "[529 rows x 4 columns]"
      ]
     },
     "execution_count": 34,
     "metadata": {},
     "output_type": "execute_result"
    }
   ],
   "source": [
    "# Question 2\n",
    "\n",
    "# gilter the results for intake by color and create the results dataframe\n",
    "total_colorways = merged_datasets['color_intake'].value_counts()\n",
    "color_adoption_df = total_colorways.rename('total_intakes').reset_index()\n",
    "color_adoption_df.columns = ['color', 'total_intakes']\n",
    "\n",
    "# filter the results for adoption count per colorway and merge the results into the dataframe\n",
    "adoption_counts = merged_datasets[merged_datasets['outcome_type'] == 'Adoption']['color_intake'].value_counts()\n",
    "color_adoption_df = color_adoption_df.merge(adoption_counts.rename('total_adoptions'), left_on='color',right_index=True, how='left').fillna(0)\n",
    "\n",
    "# calculate the adoption percentage\n",
    "color_adoption_df['adoption_percentage'] = (color_adoption_df['total_adoptions'] / color_adoption_df['total_intakes'] * 100).fillna(0).round(2)\n",
    "color_adoption_df"
   ]
  },
  {
   "cell_type": "code",
   "execution_count": 35,
   "id": "518d0ad8-9339-4f47-94e9-0c76eb70d7c3",
   "metadata": {},
   "outputs": [
    {
     "data": {
      "text/html": [
       "<div>\n",
       "<style scoped>\n",
       "    .dataframe tbody tr th:only-of-type {\n",
       "        vertical-align: middle;\n",
       "    }\n",
       "\n",
       "    .dataframe tbody tr th {\n",
       "        vertical-align: top;\n",
       "    }\n",
       "\n",
       "    .dataframe thead th {\n",
       "        text-align: right;\n",
       "    }\n",
       "</style>\n",
       "<table border=\"1\" class=\"dataframe\">\n",
       "  <thead>\n",
       "    <tr style=\"text-align: right;\">\n",
       "      <th></th>\n",
       "      <th>color</th>\n",
       "      <th>total_intakes</th>\n",
       "      <th>total_adoptions</th>\n",
       "      <th>adoption_percentage</th>\n",
       "    </tr>\n",
       "  </thead>\n",
       "  <tbody>\n",
       "    <tr>\n",
       "      <th>0</th>\n",
       "      <td>Black/White</td>\n",
       "      <td>10814</td>\n",
       "      <td>4991</td>\n",
       "      <td>46.15</td>\n",
       "    </tr>\n",
       "    <tr>\n",
       "      <th>1</th>\n",
       "      <td>Black</td>\n",
       "      <td>7842</td>\n",
       "      <td>3234</td>\n",
       "      <td>41.24</td>\n",
       "    </tr>\n",
       "    <tr>\n",
       "      <th>2</th>\n",
       "      <td>Brown Tabby</td>\n",
       "      <td>4840</td>\n",
       "      <td>2116</td>\n",
       "      <td>43.72</td>\n",
       "    </tr>\n",
       "    <tr>\n",
       "      <th>3</th>\n",
       "      <td>Brown</td>\n",
       "      <td>4124</td>\n",
       "      <td>1047</td>\n",
       "      <td>25.39</td>\n",
       "    </tr>\n",
       "    <tr>\n",
       "      <th>4</th>\n",
       "      <td>Brown/White</td>\n",
       "      <td>3690</td>\n",
       "      <td>1579</td>\n",
       "      <td>42.79</td>\n",
       "    </tr>\n",
       "  </tbody>\n",
       "</table>\n",
       "</div>"
      ],
      "text/plain": [
       "         color  total_intakes  total_adoptions  adoption_percentage\n",
       "0  Black/White          10814             4991                46.15\n",
       "1        Black           7842             3234                41.24\n",
       "2  Brown Tabby           4840             2116                43.72\n",
       "3        Brown           4124             1047                25.39\n",
       "4  Brown/White           3690             1579                42.79"
      ]
     },
     "execution_count": 35,
     "metadata": {},
     "output_type": "execute_result"
    }
   ],
   "source": [
    "# Question 3\n",
    "\n",
    "# Top 5 Colorways by count that is present\n",
    "top_5_colorways = merged_datasets['color_intake'].value_counts(ascending=False).head(5)\n",
    "top_5_colorways_df = top_5_colorways.reset_index()\n",
    "top_5_colorways_df.columns = ['color', 'total_intakes']\n",
    "\n",
    "# Get the adoption for the top 5 colors\n",
    "adoption_counts = merged_datasets[merged_datasets['outcome_type'] == 'Adoption']['color_intake'].value_counts()\n",
    "top_5_adoption_rates = top_5_colorways_df.merge(adoption_counts.rename('total_adoptions'), left_on='color', right_index=True,how='left').fillna(0)\n",
    "\n",
    "# Calculate the adoption rate\n",
    "top_5_adoption_rates['adoption_percentage'] = (top_5_adoption_rates['total_adoptions'] / top_5_adoption_rates['total_intakes'] * 100).fillna(0).round(2)\n",
    "top_5_adoption_rates"
   ]
  },
  {
   "cell_type": "markdown",
   "id": "d1fc384d-977b-4bf2-828f-456386b6bd2a",
   "metadata": {},
   "source": [
    "## Exceeds Expectations\n",
    "- The question:\n",
    "    - [x] What are the adoption rates for the following age group:\n",
    "        - [x] Baby: 4 Months and less\n",
    "        - [x] Young: 5 Months - 2 years\n",
    "        - [x] Adult: 3 Years - 10 years\n",
    "        - [x] Senior: 11+\n",
    "- [x] There is an explanation of how the answer was calculated for this questions"
   ]
  },
  {
   "cell_type": "markdown",
   "id": "1052789a-dc01-451f-a351-333a56fad6a0",
   "metadata": {},
   "source": [
    "### Explanation\n",
    "\n",
    "I'll break the explanation up into steps for easy reading:\n",
    "\n",
    "Step 1: First thing I had to do is figure out how to get the value of the `age_upon_outcome` to reflect as months. In order to do this, I used the `split()` method and stored each value into its own variable (`age` and `unit`). Next step is to convert the age into months, with the calculation relying on the `age_str[1]` index value. This would convert the `age` with the accurate calculation based on the `unit` value. \n",
    "\n",
    "Step 2: Next I had to take the return value of months, and calculate which label it'd receive (`Baby`, `Young`, `Adult` or `Senior`). After that was done, I just applied that function to the `merged_datasets['age_upon_outcome_months']` in order to associate the months with the proper label. \n",
    "\n",
    "Step 3: Lastly, I did a simply (but reoccurring) merge of datasets. Then I ran the calculation for gettin the adoption rates for each label. "
   ]
  },
  {
   "cell_type": "code",
   "execution_count": 87,
   "id": "d65882b2-2548-4bcc-b861-02f80947eb69",
   "metadata": {},
   "outputs": [
    {
     "data": {
      "text/html": [
       "<div>\n",
       "<style scoped>\n",
       "    .dataframe tbody tr th:only-of-type {\n",
       "        vertical-align: middle;\n",
       "    }\n",
       "\n",
       "    .dataframe tbody tr th {\n",
       "        vertical-align: top;\n",
       "    }\n",
       "\n",
       "    .dataframe thead th {\n",
       "        text-align: right;\n",
       "    }\n",
       "</style>\n",
       "<table border=\"1\" class=\"dataframe\">\n",
       "  <thead>\n",
       "    <tr style=\"text-align: right;\">\n",
       "      <th></th>\n",
       "      <th>age_group</th>\n",
       "      <th>total_intakes</th>\n",
       "      <th>total_adoptions</th>\n",
       "      <th>adoption_percentage</th>\n",
       "    </tr>\n",
       "  </thead>\n",
       "  <tbody>\n",
       "    <tr>\n",
       "      <th>0</th>\n",
       "      <td>Young</td>\n",
       "      <td>45955</td>\n",
       "      <td>19936</td>\n",
       "      <td>43.38</td>\n",
       "    </tr>\n",
       "    <tr>\n",
       "      <th>1</th>\n",
       "      <td>Baby</td>\n",
       "      <td>25439</td>\n",
       "      <td>14091</td>\n",
       "      <td>55.39</td>\n",
       "    </tr>\n",
       "    <tr>\n",
       "      <th>2</th>\n",
       "      <td>Adult</td>\n",
       "      <td>25200</td>\n",
       "      <td>8692</td>\n",
       "      <td>34.49</td>\n",
       "    </tr>\n",
       "    <tr>\n",
       "      <th>3</th>\n",
       "      <td>Senior</td>\n",
       "      <td>2607</td>\n",
       "      <td>604</td>\n",
       "      <td>23.17</td>\n",
       "    </tr>\n",
       "  </tbody>\n",
       "</table>\n",
       "</div>"
      ],
      "text/plain": [
       "  age_group  total_intakes  total_adoptions  adoption_percentage\n",
       "0     Young          45955            19936                43.38\n",
       "1      Baby          25439            14091                55.39\n",
       "2     Adult          25200             8692                34.49\n",
       "3    Senior           2607              604                23.17"
      ]
     },
     "execution_count": 87,
     "metadata": {},
     "output_type": "execute_result"
    }
   ],
   "source": [
    "# Question 1\n",
    "\n",
    "# Step 1: function to split the age into seperate indexes\n",
    "def convert_to_months(age_str):\n",
    "    if pd.isna(age_str):\n",
    "        return None\n",
    "    parts = age_str.split()\n",
    "\n",
    "    # Handle if the parts series is less than 2 indexes\n",
    "    if len(parts) < 2:\n",
    "        return None\n",
    "\n",
    "    # seperate the age from the unit for easier manipulation\n",
    "    age = int(parts[0])\n",
    "    unit = parts[1].lower()\n",
    "\n",
    "    # simple if statement that returns the age in months based on the unit value (year/month/week)\n",
    "    if 'year' in unit:\n",
    "        return age * 12\n",
    "    elif 'month' in unit:\n",
    "        return age\n",
    "    elif 'week' in unit:\n",
    "        return age / 4\n",
    "    else:\n",
    "        return None\n",
    "\n",
    "# conversion to months\n",
    "merged_datasets['age_upon_outcome_months'] = merged_datasets['age_upon_outcome'].apply(convert_to_months)\n",
    "\n",
    "# Step 2: function that'll return the desired label based on the age in months\n",
    "def categorize_age(age):\n",
    "    if pd.isna(age):\n",
    "        return None\n",
    "    elif age <= 4:\n",
    "        return 'Baby'\n",
    "    elif 5 <= age <= 24:\n",
    "        return 'Young'\n",
    "    elif 25 <= age <= 120:\n",
    "        return 'Adult'\n",
    "    else:\n",
    "        return 'Senior'\n",
    "\n",
    "# Apply the categories\n",
    "merged_datasets['age_group'] = merged_datasets['age_upon_outcome_months'].apply(categorize_age)\n",
    "\n",
    "# Step 3: count intakes and count adoptions per age group\n",
    "total_intakes_by_age = merged_datasets['age_group'].value_counts()\n",
    "adoptions_by_age = merged_datasets[merged_datasets['outcome_type'] == 'Adoption']['age_group'].value_counts()\n",
    " \n",
    "# create a counts dataframe for easy manipulation\n",
    "age_adoption_df = total_intakes_by_age.rename('total_intakes').reset_index()\n",
    "age_adoption_df.columns = ['age_group', 'total_intakes']\n",
    "\n",
    "# merge the count dataframe with the adoptions\n",
    "age_adoption_df = age_adoption_df.merge(adoptions_by_age.rename('total_adoptions'), left_on='age_group', right_index=True, how='left').fillna(0)\n",
    "\n",
    "# now just calculate the percentages\n",
    "age_adoption_df['adoption_percentage'] = (age_adoption_df['total_adoptions'] / age_adoption_df['total_intakes'] * 100).round(2)\n",
    "age_adoption_df"
   ]
  },
  {
   "cell_type": "markdown",
   "id": "d2c61352-4a27-4428-b901-20553f531a56",
   "metadata": {},
   "source": [
    "# Spay/Neuter 0/5"
   ]
  },
  {
   "cell_type": "markdown",
   "id": "19c3e242-fd85-46f7-ae41-1930fa2b425b",
   "metadata": {},
   "source": [
    "## Meets Expectations\n",
    "- The questions:\n",
    "    - [ ] About how many animals are spayed/neutered each month?\n",
    "        - The calculation assumes that all intact males and females will be spayed/neutered\n",
    "- [ ] There is an explanation of how the answer was calculated for this question"
   ]
  },
  {
   "cell_type": "code",
   "execution_count": 133,
   "id": "6cc4fee5-a0d7-4853-874f-07ce60b6c602",
   "metadata": {},
   "outputs": [
    {
     "name": "stdout",
     "output_type": "stream",
     "text": [
      "Spay/Neuter operations per month:\n",
      "outcome_month\n",
      "01    2967\n",
      "02    2632\n",
      "03    2754\n",
      "04    2048\n",
      "05    2612\n",
      "06    2978\n",
      "07    3557\n",
      "08    3017\n",
      "09    2733\n",
      "10    2918\n",
      "11    3179\n",
      "12    3400\n",
      "dtype: int64\n",
      "\n",
      "Average spay/neuter operations per month: 2899.58\n"
     ]
    }
   ],
   "source": [
    "# Question 1\n",
    "\n",
    "# Step 1: filter spayed/neuter outcomes\n",
    "spayed_neutered = merged_datasets.loc[\n",
    "    (merged_datasets['sex_upon_intake'].str.contains('Intact', na=False)) & \n",
    "    (merged_datasets['sex_upon_outcome'].str.contains('Spayed|Neutered', na=False))\n",
    "].copy()\n",
    "\n",
    "# Step 2: group the data by months (groupby)\n",
    "spayed_neutered.loc[:, 'outcome_month'] = spayed_neutered['datetime_outcome'].str[5:7]\n",
    "\n",
    "# Step 3: count the spay/neuter ops per month (size)\n",
    "spay_neuter_per_month = spayed_neutered.groupby('outcome_month').size()\n",
    "\n",
    "# Step 4: Calculate the average (mean)\n",
    "avg_spay_neuter = spay_neuter_per_month.mean()\n",
    "print(\"Spay/Neuter operations per month:\")\n",
    "print(spay_neuter_per_month)\n",
    "print(f\"\\nAverage spay/neuter operations per month: {avg_spay_neuter:.2f}\")"
   ]
  },
  {
   "cell_type": "markdown",
   "id": "8142203c-46c0-46fd-8339-eab6fabe3c7c",
   "metadata": {
    "jp-MarkdownHeadingCollapsed": true
   },
   "source": [
    "## Exceeds Expectations\n",
    "- The question:\n",
    "    - [ ] If spay/neuter for a dog costs `$100` and a spay/neuter for a cat costs `$50`, how much did the shelter spend in 2015 on these procedures?\n",
    "- [ ] There is an explanation of how the answer was calculated for these questions"
   ]
  }
 ],
 "metadata": {
  "kernelspec": {
   "display_name": "Python 3 (ipykernel)",
   "language": "python",
   "name": "python3"
  },
  "language_info": {
   "codemirror_mode": {
    "name": "ipython",
    "version": 3
   },
   "file_extension": ".py",
   "mimetype": "text/x-python",
   "name": "python",
   "nbconvert_exporter": "python",
   "pygments_lexer": "ipython3",
   "version": "3.12.4"
  }
 },
 "nbformat": 4,
 "nbformat_minor": 5
}
